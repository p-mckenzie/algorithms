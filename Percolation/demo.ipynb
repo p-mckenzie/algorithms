{
 "cells": [
  {
   "cell_type": "markdown",
   "metadata": {},
   "source": [
    "# Quickfind section"
   ]
  },
  {
   "cell_type": "code",
   "execution_count": 1,
   "metadata": {},
   "outputs": [
    {
     "data": {
      "text/plain": [
       "[3, 1, 2, 3, 3, 5, 6, 7, 8, 3, 10, 11, 13, 13, 13]"
      ]
     },
     "execution_count": 1,
     "metadata": {},
     "output_type": "execute_result"
    }
   ],
   "source": [
    "from quickfind import WeightedQuickUF\n",
    "\n",
    "a = WeightedQuickUF(n=15)\n",
    "\n",
    "# make one section with 4 elements\n",
    "a.union(0,3)\n",
    "a.union(0,4)\n",
    "a.union(0,9)\n",
    "\n",
    "# make another section with 3 elements\n",
    "a.union(12,13)\n",
    "a.union(12,14)\n",
    "\n",
    "a.ids"
   ]
  },
  {
   "cell_type": "code",
   "execution_count": 2,
   "metadata": {},
   "outputs": [
    {
     "data": {
      "text/plain": [
       "[3, 1, 2, 3, 3, 5, 6, 7, 8, 3, 10, 11, 13, 3, 13]"
      ]
     },
     "execution_count": 2,
     "metadata": {},
     "output_type": "execute_result"
    }
   ],
   "source": [
    "a.union(12,9)\n",
    "a.ids"
   ]
  },
  {
   "cell_type": "code",
   "execution_count": 3,
   "metadata": {},
   "outputs": [
    {
     "data": {
      "text/plain": [
       "[3, 1, 2, 3, 3, 5, 6, 7, 8, 3, 3, 11, 13, 3, 13]"
      ]
     },
     "execution_count": 3,
     "metadata": {},
     "output_type": "execute_result"
    }
   ],
   "source": [
    "a.union(10,13)\n",
    "a.ids"
   ]
  },
  {
   "cell_type": "code",
   "execution_count": 4,
   "metadata": {},
   "outputs": [
    {
     "data": {
      "text/plain": [
       "[1, 0, 0, 0, 1, 0, 0, 0, 0, 1, 1, 0, 2, 1, 1]"
      ]
     },
     "execution_count": 4,
     "metadata": {},
     "output_type": "execute_result"
    }
   ],
   "source": [
    "a.heights"
   ]
  },
  {
   "cell_type": "code",
   "execution_count": 5,
   "metadata": {},
   "outputs": [
    {
     "data": {
      "text/plain": [
       "[3, 1, 2, 3, 3, 5, 6, 7, 8, 3, 3, 11, 3, 3, 13]"
      ]
     },
     "execution_count": 5,
     "metadata": {},
     "output_type": "execute_result"
    }
   ],
   "source": [
    "a.find(12)\n",
    "a.ids"
   ]
  },
  {
   "cell_type": "code",
   "execution_count": 6,
   "metadata": {},
   "outputs": [
    {
     "data": {
      "text/plain": [
       "[1, 0, 0, 0, 1, 0, 0, 0, 0, 1, 1, 0, 1, 1, 1]"
      ]
     },
     "execution_count": 6,
     "metadata": {},
     "output_type": "execute_result"
    }
   ],
   "source": [
    "a.heights"
   ]
  },
  {
   "cell_type": "code",
   "execution_count": 7,
   "metadata": {},
   "outputs": [
    {
     "name": "stdout",
     "output_type": "stream",
     "text": [
      "8\n"
     ]
    },
    {
     "data": {
      "text/plain": [
       "[3, 1, 2, 3, 3, 5, 6, 7, 8, 3, 3, 11, 3, 3, 3]"
      ]
     },
     "execution_count": 7,
     "metadata": {},
     "output_type": "execute_result"
    }
   ],
   "source": [
    "print(a.count())\n",
    "a.ids"
   ]
  },
  {
   "cell_type": "markdown",
   "metadata": {},
   "source": [
    "# Percolation section"
   ]
  },
  {
   "cell_type": "code",
   "execution_count": 8,
   "metadata": {},
   "outputs": [
    {
     "data": {
      "text/plain": [
       "array([[False, False, False],\n",
       "       [False, False, False],\n",
       "       [False, False, False]])"
      ]
     },
     "execution_count": 8,
     "metadata": {},
     "output_type": "execute_result"
    }
   ],
   "source": [
    "from percolation import Percolation\n",
    "a = Percolation(N=3)\n",
    "\n",
    "import numpy as np\n",
    "np.array(a.check()).reshape((3,3))"
   ]
  },
  {
   "cell_type": "code",
   "execution_count": 9,
   "metadata": {},
   "outputs": [
    {
     "name": "stdout",
     "output_type": "stream",
     "text": [
      "False\n"
     ]
    },
    {
     "data": {
      "text/plain": [
       "array([[False,  True, False],\n",
       "       [False,  True, False],\n",
       "       [False, False, False]])"
      ]
     },
     "execution_count": 9,
     "metadata": {},
     "output_type": "execute_result"
    }
   ],
   "source": [
    "a.Open(2,2)\n",
    "a.Open(1,2)\n",
    "print(a.percolates())\n",
    "np.array(a.check()).reshape((3,3))"
   ]
  },
  {
   "cell_type": "code",
   "execution_count": 10,
   "metadata": {},
   "outputs": [
    {
     "name": "stdout",
     "output_type": "stream",
     "text": [
      "True\n"
     ]
    },
    {
     "data": {
      "text/plain": [
       "array([[False,  True, False],\n",
       "       [False,  True,  True],\n",
       "       [False, False,  True]])"
      ]
     },
     "execution_count": 10,
     "metadata": {},
     "output_type": "execute_result"
    }
   ],
   "source": [
    "a.Open(3,3)\n",
    "a.Open(2,3)\n",
    "print(a.percolates())\n",
    "np.array(a.check()).reshape((3,3))"
   ]
  },
  {
   "cell_type": "markdown",
   "metadata": {},
   "source": [
    "# Stats section"
   ]
  },
  {
   "cell_type": "code",
   "execution_count": 11,
   "metadata": {},
   "outputs": [],
   "source": [
    "from stats import PercolationStats\n",
    "\n",
    "import time"
   ]
  },
  {
   "cell_type": "code",
   "execution_count": 12,
   "metadata": {},
   "outputs": [],
   "source": [
    "runtime = []\n",
    "hi = []\n",
    "means = []\n",
    "lo = []\n",
    "ids = range(2,21)\n",
    "for n in ids:\n",
    "    start = time.process_time()\n",
    "    stats = PercolationStats(n=n, trials=200)\n",
    "    final_time = time.process_time() - start\n",
    "    runtime.append(final_time)\n",
    "    \n",
    "    hi.append(stats.confidenceHi)\n",
    "    means.append(stats.mean)\n",
    "    lo.append(stats.confidenceLo)"
   ]
  },
  {
   "cell_type": "code",
   "execution_count": 13,
   "metadata": {},
   "outputs": [
    {
     "data": {
      "text/html": [
       "<div>\n",
       "<style scoped>\n",
       "    .dataframe tbody tr th:only-of-type {\n",
       "        vertical-align: middle;\n",
       "    }\n",
       "\n",
       "    .dataframe tbody tr th {\n",
       "        vertical-align: top;\n",
       "    }\n",
       "\n",
       "    .dataframe thead th {\n",
       "        text-align: right;\n",
       "    }\n",
       "</style>\n",
       "<table border=\"1\" class=\"dataframe\">\n",
       "  <thead>\n",
       "    <tr style=\"text-align: right;\">\n",
       "      <th></th>\n",
       "      <th>grid_size</th>\n",
       "      <th>top_confidence</th>\n",
       "      <th>mean</th>\n",
       "      <th>low_confidence</th>\n",
       "      <th>runtime</th>\n",
       "    </tr>\n",
       "  </thead>\n",
       "  <tbody>\n",
       "    <tr>\n",
       "      <th>0</th>\n",
       "      <td>2</td>\n",
       "      <td>0.680</td>\n",
       "      <td>0.664</td>\n",
       "      <td>0.647</td>\n",
       "      <td>1.391</td>\n",
       "    </tr>\n",
       "    <tr>\n",
       "      <th>1</th>\n",
       "      <td>3</td>\n",
       "      <td>0.633</td>\n",
       "      <td>0.618</td>\n",
       "      <td>0.603</td>\n",
       "      <td>0.047</td>\n",
       "    </tr>\n",
       "    <tr>\n",
       "      <th>2</th>\n",
       "      <td>4</td>\n",
       "      <td>0.613</td>\n",
       "      <td>0.596</td>\n",
       "      <td>0.579</td>\n",
       "      <td>0.156</td>\n",
       "    </tr>\n",
       "    <tr>\n",
       "      <th>3</th>\n",
       "      <td>5</td>\n",
       "      <td>0.597</td>\n",
       "      <td>0.581</td>\n",
       "      <td>0.566</td>\n",
       "      <td>0.125</td>\n",
       "    </tr>\n",
       "    <tr>\n",
       "      <th>4</th>\n",
       "      <td>6</td>\n",
       "      <td>0.583</td>\n",
       "      <td>0.569</td>\n",
       "      <td>0.556</td>\n",
       "      <td>0.188</td>\n",
       "    </tr>\n",
       "    <tr>\n",
       "      <th>5</th>\n",
       "      <td>7</td>\n",
       "      <td>0.598</td>\n",
       "      <td>0.587</td>\n",
       "      <td>0.575</td>\n",
       "      <td>0.203</td>\n",
       "    </tr>\n",
       "    <tr>\n",
       "      <th>6</th>\n",
       "      <td>8</td>\n",
       "      <td>0.606</td>\n",
       "      <td>0.595</td>\n",
       "      <td>0.583</td>\n",
       "      <td>0.281</td>\n",
       "    </tr>\n",
       "    <tr>\n",
       "      <th>7</th>\n",
       "      <td>9</td>\n",
       "      <td>0.598</td>\n",
       "      <td>0.587</td>\n",
       "      <td>0.577</td>\n",
       "      <td>0.234</td>\n",
       "    </tr>\n",
       "    <tr>\n",
       "      <th>8</th>\n",
       "      <td>10</td>\n",
       "      <td>0.596</td>\n",
       "      <td>0.586</td>\n",
       "      <td>0.577</td>\n",
       "      <td>0.438</td>\n",
       "    </tr>\n",
       "    <tr>\n",
       "      <th>9</th>\n",
       "      <td>11</td>\n",
       "      <td>0.601</td>\n",
       "      <td>0.591</td>\n",
       "      <td>0.581</td>\n",
       "      <td>0.562</td>\n",
       "    </tr>\n",
       "    <tr>\n",
       "      <th>10</th>\n",
       "      <td>12</td>\n",
       "      <td>0.597</td>\n",
       "      <td>0.587</td>\n",
       "      <td>0.577</td>\n",
       "      <td>0.703</td>\n",
       "    </tr>\n",
       "    <tr>\n",
       "      <th>11</th>\n",
       "      <td>13</td>\n",
       "      <td>0.596</td>\n",
       "      <td>0.588</td>\n",
       "      <td>0.579</td>\n",
       "      <td>0.750</td>\n",
       "    </tr>\n",
       "    <tr>\n",
       "      <th>12</th>\n",
       "      <td>14</td>\n",
       "      <td>0.603</td>\n",
       "      <td>0.595</td>\n",
       "      <td>0.586</td>\n",
       "      <td>0.828</td>\n",
       "    </tr>\n",
       "    <tr>\n",
       "      <th>13</th>\n",
       "      <td>15</td>\n",
       "      <td>0.598</td>\n",
       "      <td>0.590</td>\n",
       "      <td>0.582</td>\n",
       "      <td>1.078</td>\n",
       "    </tr>\n",
       "    <tr>\n",
       "      <th>14</th>\n",
       "      <td>16</td>\n",
       "      <td>0.598</td>\n",
       "      <td>0.590</td>\n",
       "      <td>0.582</td>\n",
       "      <td>1.188</td>\n",
       "    </tr>\n",
       "    <tr>\n",
       "      <th>15</th>\n",
       "      <td>17</td>\n",
       "      <td>0.597</td>\n",
       "      <td>0.590</td>\n",
       "      <td>0.582</td>\n",
       "      <td>1.328</td>\n",
       "    </tr>\n",
       "    <tr>\n",
       "      <th>16</th>\n",
       "      <td>18</td>\n",
       "      <td>0.599</td>\n",
       "      <td>0.592</td>\n",
       "      <td>0.585</td>\n",
       "      <td>1.344</td>\n",
       "    </tr>\n",
       "    <tr>\n",
       "      <th>17</th>\n",
       "      <td>19</td>\n",
       "      <td>0.599</td>\n",
       "      <td>0.592</td>\n",
       "      <td>0.586</td>\n",
       "      <td>1.734</td>\n",
       "    </tr>\n",
       "    <tr>\n",
       "      <th>18</th>\n",
       "      <td>20</td>\n",
       "      <td>0.608</td>\n",
       "      <td>0.601</td>\n",
       "      <td>0.594</td>\n",
       "      <td>1.812</td>\n",
       "    </tr>\n",
       "  </tbody>\n",
       "</table>\n",
       "</div>"
      ],
      "text/plain": [
       "    grid_size  top_confidence   mean  low_confidence  runtime\n",
       "0           2           0.680  0.664           0.647    1.391\n",
       "1           3           0.633  0.618           0.603    0.047\n",
       "2           4           0.613  0.596           0.579    0.156\n",
       "3           5           0.597  0.581           0.566    0.125\n",
       "4           6           0.583  0.569           0.556    0.188\n",
       "5           7           0.598  0.587           0.575    0.203\n",
       "6           8           0.606  0.595           0.583    0.281\n",
       "7           9           0.598  0.587           0.577    0.234\n",
       "8          10           0.596  0.586           0.577    0.438\n",
       "9          11           0.601  0.591           0.581    0.562\n",
       "10         12           0.597  0.587           0.577    0.703\n",
       "11         13           0.596  0.588           0.579    0.750\n",
       "12         14           0.603  0.595           0.586    0.828\n",
       "13         15           0.598  0.590           0.582    1.078\n",
       "14         16           0.598  0.590           0.582    1.188\n",
       "15         17           0.597  0.590           0.582    1.328\n",
       "16         18           0.599  0.592           0.585    1.344\n",
       "17         19           0.599  0.592           0.586    1.734\n",
       "18         20           0.608  0.601           0.594    1.812"
      ]
     },
     "execution_count": 13,
     "metadata": {},
     "output_type": "execute_result"
    }
   ],
   "source": [
    "from pandas import DataFrame\n",
    "\n",
    "DataFrame([ids, hi, means, lo, runtime], index=['grid_size', 'top_confidence', 'mean', 'low_confidence', 'runtime']).T.round(3).astype({'grid_size':int})"
   ]
  },
  {
   "cell_type": "code",
   "execution_count": 14,
   "metadata": {},
   "outputs": [
    {
     "name": "stdout",
     "output_type": "stream",
     "text": [
      "Populating the interactive namespace from numpy and matplotlib\n"
     ]
    },
    {
     "data": {
      "image/png": "[encoded data removed]",
      "text/plain": [
       "<Figure size 432x288 with 1 Axes>"
      ]
     },
     "metadata": {},
     "output_type": "display_data"
    }
   ],
   "source": [
    "import matplotlib.pyplot as plt\n",
    "%pylab inline\n",
    "\n",
    "adjusted_x = [n**2 for n in ids[1:]]\n",
    "plt.plot(adjusted_x, runtime[1:], marker='x', label='Runtime')\n",
    "plt.title(\"Performance of weighted quick-union\\nwith path compression\")\n",
    "plt.xlabel(\"N (# of sites)\")\n",
    "plt.ylabel(\"Time (s)\")\n",
    "plt.legend()\n",
    "#plt.savefig('performance.png', dpi=500)\n",
    "plt.show()"
   ]
  }
 ],
 "metadata": {
  "kernelspec": {
   "display_name": "Python 3",
   "language": "python",
   "name": "python3"
  },
  "language_info": {
   "codemirror_mode": {
    "name": "ipython",
    "version": 3
   },
   "file_extension": ".py",
   "mimetype": "text/x-python",
   "name": "python",
   "nbconvert_exporter": "python",
   "pygments_lexer": "ipython3",
   "version": "3.6.5"
  }
 },
 "nbformat": 4,
 "nbformat_minor": 2
}
